{
 "cells": [
  {
   "cell_type": "code",
   "execution_count": 2,
   "metadata": {},
   "outputs": [],
   "source": [
    "%matplotlib inline"
   ]
  },
  {
   "cell_type": "code",
   "execution_count": 139,
   "metadata": {},
   "outputs": [],
   "source": [
    "import numpy as np\n",
    "import matplotlib.pyplot as plt\n",
    "import pandas as pd\n",
    "\n",
    "import statsmodels\n",
    "import statsmodels.api as sm\n",
    "from statsmodels.formula.api import ols\n",
    "from statsmodels.stats.anova import anova_lm\n",
    "\n",
    "from skimage.io import imread\n",
    "import scipy.ndimage\n",
    "# Write your imports here\n",
    "import scipy.stats as st"
   ]
  },
  {
   "cell_type": "markdown",
   "metadata": {},
   "source": [
    "# Hypothesis Testing Exercise\n",
    "## Comparing Distributions. Testing statistical hypotheses. p-value. Goodness of fit"
   ]
  },
  {
   "cell_type": "markdown",
   "metadata": {},
   "source": [
    "### Problem 1. t-test\n",
    "You're given a dataset which describes the age at death among members of the sovereignty, aristocracy, and gentry. There is an explanation [here](http://www.stat.ufl.edu/~winner/data/agedeath.txt) and the actual data is [here](http://www.stat.ufl.edu/~winner/data/agedeath.dat). Get to know the data; plot histograms and / or boxplots, or other graphs as needed. Note that all ages are only for a certain social class of people and they won't represent the entire population of people.\n",
    "\n",
    "Do the mean ages differ significantly ($\\alpha = 5\\%$)? Perform a t-test. Do you need an independent or paired test?"
   ]
  },
  {
   "cell_type": "code",
   "execution_count": 31,
   "metadata": {},
   "outputs": [],
   "source": [
    "age = pd.read_fwf(\"data/agedeath.dat\", header=None, index_col=2)"
   ]
  },
  {
   "cell_type": "code",
   "execution_count": 34,
   "metadata": {},
   "outputs": [],
   "source": [
    "age.columns = [\"Lineage\", \"Age\"]"
   ]
  },
  {
   "cell_type": "code",
   "execution_count": 35,
   "metadata": {
    "scrolled": true
   },
   "outputs": [
    {
     "data": {
      "text/html": [
       "<div>\n",
       "<style scoped>\n",
       "    .dataframe tbody tr th:only-of-type {\n",
       "        vertical-align: middle;\n",
       "    }\n",
       "\n",
       "    .dataframe tbody tr th {\n",
       "        vertical-align: top;\n",
       "    }\n",
       "\n",
       "    .dataframe thead th {\n",
       "        text-align: right;\n",
       "    }\n",
       "</style>\n",
       "<table border=\"1\" class=\"dataframe\">\n",
       "  <thead>\n",
       "    <tr style=\"text-align: right;\">\n",
       "      <th></th>\n",
       "      <th>Lineage</th>\n",
       "      <th>Age</th>\n",
       "    </tr>\n",
       "    <tr>\n",
       "      <th>2</th>\n",
       "      <th></th>\n",
       "      <th></th>\n",
       "    </tr>\n",
       "  </thead>\n",
       "  <tbody>\n",
       "    <tr>\n",
       "      <th>1</th>\n",
       "      <td>aris</td>\n",
       "      <td>21</td>\n",
       "    </tr>\n",
       "    <tr>\n",
       "      <th>2</th>\n",
       "      <td>aris</td>\n",
       "      <td>21</td>\n",
       "    </tr>\n",
       "    <tr>\n",
       "      <th>3</th>\n",
       "      <td>aris</td>\n",
       "      <td>21</td>\n",
       "    </tr>\n",
       "    <tr>\n",
       "      <th>4</th>\n",
       "      <td>aris</td>\n",
       "      <td>21</td>\n",
       "    </tr>\n",
       "    <tr>\n",
       "      <th>5</th>\n",
       "      <td>aris</td>\n",
       "      <td>21</td>\n",
       "    </tr>\n",
       "    <tr>\n",
       "      <th>...</th>\n",
       "      <td>...</td>\n",
       "      <td>...</td>\n",
       "    </tr>\n",
       "    <tr>\n",
       "      <th>436</th>\n",
       "      <td>sovr</td>\n",
       "      <td>95</td>\n",
       "    </tr>\n",
       "    <tr>\n",
       "      <th>437</th>\n",
       "      <td>sovr</td>\n",
       "      <td>95</td>\n",
       "    </tr>\n",
       "    <tr>\n",
       "      <th>438</th>\n",
       "      <td>sovr</td>\n",
       "      <td>97</td>\n",
       "    </tr>\n",
       "    <tr>\n",
       "      <th>439</th>\n",
       "      <td>sovr</td>\n",
       "      <td>0</td>\n",
       "    </tr>\n",
       "    <tr>\n",
       "      <th>440</th>\n",
       "      <td>sovr</td>\n",
       "      <td>1</td>\n",
       "    </tr>\n",
       "  </tbody>\n",
       "</table>\n",
       "<p>6186 rows × 2 columns</p>\n",
       "</div>"
      ],
      "text/plain": [
       "    Lineage  Age\n",
       "2               \n",
       "1      aris   21\n",
       "2      aris   21\n",
       "3      aris   21\n",
       "4      aris   21\n",
       "5      aris   21\n",
       "..      ...  ...\n",
       "436    sovr   95\n",
       "437    sovr   95\n",
       "438    sovr   97\n",
       "439    sovr    0\n",
       "440    sovr    1\n",
       "\n",
       "[6186 rows x 2 columns]"
      ]
     },
     "execution_count": 35,
     "metadata": {},
     "output_type": "execute_result"
    }
   ],
   "source": [
    "age"
   ]
  },
  {
   "cell_type": "code",
   "execution_count": 39,
   "metadata": {},
   "outputs": [
    {
     "data": {
      "text/plain": [
       "array(['aris', 'gent', 'sovr'], dtype=object)"
      ]
     },
     "execution_count": 39,
     "metadata": {},
     "output_type": "execute_result"
    }
   ],
   "source": [
    "age[\"Lineage\"].unique()"
   ]
  },
  {
   "cell_type": "code",
   "execution_count": 40,
   "metadata": {},
   "outputs": [
    {
     "data": {
      "text/plain": [
       "gent    2455\n",
       "aris    2291\n",
       "sovr    1440\n",
       "Name: Lineage, dtype: int64"
      ]
     },
     "execution_count": 40,
     "metadata": {},
     "output_type": "execute_result"
    }
   ],
   "source": [
    "age[\"Lineage\"].value_counts()"
   ]
  },
  {
   "cell_type": "code",
   "execution_count": 46,
   "metadata": {},
   "outputs": [
    {
     "data": {
      "image/png": "[encoded data removed]",
      "text/plain": [
       "<Figure size 432x288 with 1 Axes>"
      ]
     },
     "metadata": {
      "needs_background": "light"
     },
     "output_type": "display_data"
    }
   ],
   "source": [
    "plt.hist(age[\"Age\"])\n",
    "\n",
    "plt.xlabel(\"Age\")\n",
    "plt.ylabel(\"People\")\n",
    "\n",
    "plt.show()"
   ]
  },
  {
   "cell_type": "code",
   "execution_count": 57,
   "metadata": {},
   "outputs": [
    {
     "data": {
      "text/plain": [
       "<matplotlib.legend.Legend at 0x26373444f40>"
      ]
     },
     "execution_count": 57,
     "metadata": {},
     "output_type": "execute_result"
    },
    {
     "data": {
      "image/png": "[encoded data removed]",
      "text/plain": [
       "<Figure size 432x288 with 1 Axes>"
      ]
     },
     "metadata": {
      "needs_background": "light"
     },
     "output_type": "display_data"
    }
   ],
   "source": [
    "for lineage, dataset in age.groupby(\"Lineage\"):\n",
    "    plt.hist(dataset[\"Age\"], bins = 15, alpha = 0.4, label=lineage)\n",
    "    \n",
    "plt.xlabel(\"Age\")\n",
    "plt.ylabel(\"People\")\n",
    "plt.legend()\n",
    "plt.show()"
   ]
  },
  {
   "cell_type": "code",
   "execution_count": 59,
   "metadata": {},
   "outputs": [
    {
     "data": {
      "image/png": "[encoded data removed]",
      "text/plain": [
       "<Figure size 432x288 with 1 Axes>"
      ]
     },
     "metadata": {
      "needs_background": "light"
     },
     "output_type": "display_data"
    }
   ],
   "source": [
    "for lineage, dataset in age.groupby(\"Lineage\"):\n",
    "    plt.hist(dataset[\"Age\"], bins = 15, alpha = 0.4, label=lineage, density=True)\n",
    "    \n",
    "plt.xlabel(\"Age\")\n",
    "plt.ylabel(\"People\")\n",
    "plt.legend()\n",
    "plt.show()"
   ]
  },
  {
   "cell_type": "code",
   "execution_count": 64,
   "metadata": {},
   "outputs": [
    {
     "data": {
      "text/plain": [
       "Lineage\n",
       "aris    60.146224\n",
       "gent    57.145010\n",
       "sovr    54.093750\n",
       "Name: Age, dtype: float64"
      ]
     },
     "execution_count": 64,
     "metadata": {},
     "output_type": "execute_result"
    }
   ],
   "source": [
    "age.groupby(\"Lineage\")[\"Age\"].mean()"
   ]
  },
  {
   "cell_type": "code",
   "execution_count": 71,
   "metadata": {},
   "outputs": [
    {
     "data": {
      "text/html": [
       "<div>\n",
       "<style scoped>\n",
       "    .dataframe tbody tr th:only-of-type {\n",
       "        vertical-align: middle;\n",
       "    }\n",
       "\n",
       "    .dataframe tbody tr th {\n",
       "        vertical-align: top;\n",
       "    }\n",
       "\n",
       "    .dataframe thead th {\n",
       "        text-align: right;\n",
       "    }\n",
       "</style>\n",
       "<table border=\"1\" class=\"dataframe\">\n",
       "  <thead>\n",
       "    <tr style=\"text-align: right;\">\n",
       "      <th></th>\n",
       "      <th>Lineage</th>\n",
       "      <th>Age</th>\n",
       "    </tr>\n",
       "    <tr>\n",
       "      <th>2</th>\n",
       "      <th></th>\n",
       "      <th></th>\n",
       "    </tr>\n",
       "  </thead>\n",
       "  <tbody>\n",
       "    <tr>\n",
       "      <th>1</th>\n",
       "      <td>aris</td>\n",
       "      <td>21</td>\n",
       "    </tr>\n",
       "    <tr>\n",
       "      <th>2</th>\n",
       "      <td>aris</td>\n",
       "      <td>21</td>\n",
       "    </tr>\n",
       "    <tr>\n",
       "      <th>3</th>\n",
       "      <td>aris</td>\n",
       "      <td>21</td>\n",
       "    </tr>\n",
       "    <tr>\n",
       "      <th>4</th>\n",
       "      <td>aris</td>\n",
       "      <td>21</td>\n",
       "    </tr>\n",
       "    <tr>\n",
       "      <th>5</th>\n",
       "      <td>aris</td>\n",
       "      <td>21</td>\n",
       "    </tr>\n",
       "    <tr>\n",
       "      <th>...</th>\n",
       "      <td>...</td>\n",
       "      <td>...</td>\n",
       "    </tr>\n",
       "    <tr>\n",
       "      <th>287</th>\n",
       "      <td>aris</td>\n",
       "      <td>98</td>\n",
       "    </tr>\n",
       "    <tr>\n",
       "      <th>288</th>\n",
       "      <td>aris</td>\n",
       "      <td>98</td>\n",
       "    </tr>\n",
       "    <tr>\n",
       "      <th>289</th>\n",
       "      <td>aris</td>\n",
       "      <td>99</td>\n",
       "    </tr>\n",
       "    <tr>\n",
       "      <th>290</th>\n",
       "      <td>aris</td>\n",
       "      <td>0</td>\n",
       "    </tr>\n",
       "    <tr>\n",
       "      <th>291</th>\n",
       "      <td>aris</td>\n",
       "      <td>2</td>\n",
       "    </tr>\n",
       "  </tbody>\n",
       "</table>\n",
       "<p>2291 rows × 2 columns</p>\n",
       "</div>"
      ],
      "text/plain": [
       "    Lineage  Age\n",
       "2               \n",
       "1      aris   21\n",
       "2      aris   21\n",
       "3      aris   21\n",
       "4      aris   21\n",
       "5      aris   21\n",
       "..      ...  ...\n",
       "287    aris   98\n",
       "288    aris   98\n",
       "289    aris   99\n",
       "290    aris    0\n",
       "291    aris    2\n",
       "\n",
       "[2291 rows x 2 columns]"
      ]
     },
     "execution_count": 71,
     "metadata": {},
     "output_type": "execute_result"
    }
   ],
   "source": [
    "aristocrats = age[age[\"Lineage\"] == \"aris\"]\n",
    "gentlemen = age[age[\"Lineage\"] == \"gent\"]\n",
    "sovereigns = age[age[\"Lineage\"] == \"sovr\"]\n",
    "\n",
    "aristocrats"
   ]
  },
  {
   "cell_type": "code",
   "execution_count": 73,
   "metadata": {},
   "outputs": [
    {
     "data": {
      "text/plain": [
       "Ttest_indResult(statistic=5.8098209575036135, pvalue=6.662376193720552e-09)"
      ]
     },
     "execution_count": 73,
     "metadata": {},
     "output_type": "execute_result"
    }
   ],
   "source": [
    "st.ttest_ind(aristocrats[\"Age\"], gentlemen[\"Age\"])"
   ]
  },
  {
   "cell_type": "code",
   "execution_count": 75,
   "metadata": {},
   "outputs": [
    {
     "data": {
      "text/plain": [
       "Ttest_indResult(statistic=10.632066783999475, pvalue=4.968340143906721e-26)"
      ]
     },
     "execution_count": 75,
     "metadata": {},
     "output_type": "execute_result"
    }
   ],
   "source": [
    "st.ttest_ind(aristocrats[\"Age\"], sovereigns[\"Age\"])"
   ]
  },
  {
   "cell_type": "code",
   "execution_count": 74,
   "metadata": {},
   "outputs": [
    {
     "data": {
      "text/plain": [
       "Ttest_indResult(statistic=-5.2855394856397835, pvalue=1.3221059220353447e-07)"
      ]
     },
     "execution_count": 74,
     "metadata": {},
     "output_type": "execute_result"
    }
   ],
   "source": [
    "st.ttest_ind(sovereigns[\"Age\"], gentlemen[\"Age\"])"
   ]
  },
  {
   "cell_type": "markdown",
   "metadata": {},
   "source": [
    "The results show that the mean ages doesnt differ significantly by means of $(\\alpha = 5\\%)$ level. But honestly? I think 3 years is quite a lot..."
   ]
  },
  {
   "cell_type": "markdown",
   "metadata": {},
   "source": [
    "Let's try something else. In the `data/horse_beginners.dat` file, there's data about 8 people. Each person is a beginner in horse riding. They were asked to imagine how long their ride would take (for a fixed track length). After that, the actual times were measured.\n",
    "\n",
    "Get acquainted with the data and draw some plots if you need (hint: boxplots are useful for comparing distributions). Are the people good at predicting their ride times? That is, are there significant differences between imagined and actual time (5%-level)? Also, is the imagined time **significantly longer** than the real time? Perform a t-test. Don't forget that the subjects are the same."
   ]
  },
  {
   "cell_type": "code",
   "execution_count": null,
   "metadata": {},
   "outputs": [],
   "source": []
  },
  {
   "cell_type": "code",
   "execution_count": null,
   "metadata": {
    "collapsed": true
   },
   "outputs": [],
   "source": [
    "# Write your code here"
   ]
  },
  {
   "cell_type": "code",
   "execution_count": 80,
   "metadata": {},
   "outputs": [
    {
     "data": {
      "text/html": [
       "<div>\n",
       "<style scoped>\n",
       "    .dataframe tbody tr th:only-of-type {\n",
       "        vertical-align: middle;\n",
       "    }\n",
       "\n",
       "    .dataframe tbody tr th {\n",
       "        vertical-align: top;\n",
       "    }\n",
       "\n",
       "    .dataframe thead th {\n",
       "        text-align: right;\n",
       "    }\n",
       "</style>\n",
       "<table border=\"1\" class=\"dataframe\">\n",
       "  <thead>\n",
       "    <tr style=\"text-align: right;\">\n",
       "      <th></th>\n",
       "      <th>Subject</th>\n",
       "      <th>Actual</th>\n",
       "      <th>Imaginary</th>\n",
       "    </tr>\n",
       "  </thead>\n",
       "  <tbody>\n",
       "    <tr>\n",
       "      <th>1</th>\n",
       "      <td>S1</td>\n",
       "      <td>69.64</td>\n",
       "      <td>66.58</td>\n",
       "    </tr>\n",
       "    <tr>\n",
       "      <th>2</th>\n",
       "      <td>S2</td>\n",
       "      <td>62.26</td>\n",
       "      <td>25.59</td>\n",
       "    </tr>\n",
       "    <tr>\n",
       "      <th>3</th>\n",
       "      <td>S3</td>\n",
       "      <td>78.63</td>\n",
       "      <td>24.01</td>\n",
       "    </tr>\n",
       "    <tr>\n",
       "      <th>4</th>\n",
       "      <td>S4</td>\n",
       "      <td>76.00</td>\n",
       "      <td>38.35</td>\n",
       "    </tr>\n",
       "    <tr>\n",
       "      <th>5</th>\n",
       "      <td>S5</td>\n",
       "      <td>60.10</td>\n",
       "      <td>12.19</td>\n",
       "    </tr>\n",
       "    <tr>\n",
       "      <th>6</th>\n",
       "      <td>S6</td>\n",
       "      <td>68.51</td>\n",
       "      <td>34.25</td>\n",
       "    </tr>\n",
       "    <tr>\n",
       "      <th>7</th>\n",
       "      <td>S7</td>\n",
       "      <td>69.57</td>\n",
       "      <td>5.68</td>\n",
       "    </tr>\n",
       "    <tr>\n",
       "      <th>8</th>\n",
       "      <td>S8</td>\n",
       "      <td>74.48</td>\n",
       "      <td>15.02</td>\n",
       "    </tr>\n",
       "  </tbody>\n",
       "</table>\n",
       "</div>"
      ],
      "text/plain": [
       "  Subject  Actual  Imaginary\n",
       "1      S1   69.64      66.58\n",
       "2      S2   62.26      25.59\n",
       "3      S3   78.63      24.01\n",
       "4      S4   76.00      38.35\n",
       "5      S5   60.10      12.19\n",
       "6      S6   68.51      34.25\n",
       "7      S7   69.57       5.68\n",
       "8      S8   74.48      15.02"
      ]
     },
     "execution_count": 80,
     "metadata": {},
     "output_type": "execute_result"
    }
   ],
   "source": [
    "horsemen = pd.read_fwf(\"data/horse_beginners.dat\", index_col = 0)\n",
    "horsemen"
   ]
  },
  {
   "cell_type": "code",
   "execution_count": 81,
   "metadata": {},
   "outputs": [
    {
     "data": {
      "text/plain": [
       "Ttest_relResult(statistic=6.190025790155937, pvalue=0.0004496024819026769)"
      ]
     },
     "execution_count": 81,
     "metadata": {},
     "output_type": "execute_result"
    }
   ],
   "source": [
    "st.ttest_rel(horsemen[\"Actual\"], horsemen[\"Imaginary\"])"
   ]
  },
  {
   "cell_type": "markdown",
   "metadata": {},
   "source": [
    "### Problem 2. ANOVA\n",
    "Read [this](http://www.itl.nist.gov/div898/education/anova/newcar.dat) dataset. Get acquainted with it and plot graphics. Note that it's formatted a bit oddly. First, you have to skip some rows; second, the target variable is first (in most datasets, it's the last one). Well, that shouldn't bother you :).\n",
    "\n",
    "Do the rates differ significantly ($\\alpha = 0,05$) between cities? Apply one-way ANOVA to find out.\n",
    "\n",
    "**Hint:** You have to group all values by city. You can get a dictionary of groups like this:\n",
    "```python\n",
    "groups = { k: v.tolist() for k, v in cars.groupby(\"City\").Rate }\n",
    "```\n",
    "\n",
    "After that, you can use ```*groups.values()``` to pass all dictionary values as separate arguments to a function."
   ]
  },
  {
   "cell_type": "code",
   "execution_count": null,
   "metadata": {
    "collapsed": true
   },
   "outputs": [],
   "source": [
    "# Write your code here"
   ]
  },
  {
   "cell_type": "code",
   "execution_count": 87,
   "metadata": {},
   "outputs": [],
   "source": [
    "car_interest_data = pd.read_fwf(\"https://www.itl.nist.gov/div898/education/anova/newcar.dat\", header=None, skiprows=25)\n",
    "car_interest_data.columns = [\"Interest\", \"City\"]"
   ]
  },
  {
   "cell_type": "code",
   "execution_count": 88,
   "metadata": {
    "scrolled": false
   },
   "outputs": [
    {
     "data": {
      "text/html": [
       "<div>\n",
       "<style scoped>\n",
       "    .dataframe tbody tr th:only-of-type {\n",
       "        vertical-align: middle;\n",
       "    }\n",
       "\n",
       "    .dataframe tbody tr th {\n",
       "        vertical-align: top;\n",
       "    }\n",
       "\n",
       "    .dataframe thead th {\n",
       "        text-align: right;\n",
       "    }\n",
       "</style>\n",
       "<table border=\"1\" class=\"dataframe\">\n",
       "  <thead>\n",
       "    <tr style=\"text-align: right;\">\n",
       "      <th></th>\n",
       "      <th>Interest</th>\n",
       "      <th>City</th>\n",
       "    </tr>\n",
       "  </thead>\n",
       "  <tbody>\n",
       "    <tr>\n",
       "      <th>0</th>\n",
       "      <td>13.75</td>\n",
       "      <td>1</td>\n",
       "    </tr>\n",
       "    <tr>\n",
       "      <th>1</th>\n",
       "      <td>13.75</td>\n",
       "      <td>1</td>\n",
       "    </tr>\n",
       "    <tr>\n",
       "      <th>2</th>\n",
       "      <td>13.50</td>\n",
       "      <td>1</td>\n",
       "    </tr>\n",
       "    <tr>\n",
       "      <th>3</th>\n",
       "      <td>13.50</td>\n",
       "      <td>1</td>\n",
       "    </tr>\n",
       "    <tr>\n",
       "      <th>4</th>\n",
       "      <td>13.00</td>\n",
       "      <td>1</td>\n",
       "    </tr>\n",
       "    <tr>\n",
       "      <th>5</th>\n",
       "      <td>13.00</td>\n",
       "      <td>1</td>\n",
       "    </tr>\n",
       "    <tr>\n",
       "      <th>6</th>\n",
       "      <td>13.00</td>\n",
       "      <td>1</td>\n",
       "    </tr>\n",
       "    <tr>\n",
       "      <th>7</th>\n",
       "      <td>12.75</td>\n",
       "      <td>1</td>\n",
       "    </tr>\n",
       "    <tr>\n",
       "      <th>8</th>\n",
       "      <td>12.50</td>\n",
       "      <td>1</td>\n",
       "    </tr>\n",
       "    <tr>\n",
       "      <th>9</th>\n",
       "      <td>14.25</td>\n",
       "      <td>2</td>\n",
       "    </tr>\n",
       "    <tr>\n",
       "      <th>10</th>\n",
       "      <td>13.00</td>\n",
       "      <td>2</td>\n",
       "    </tr>\n",
       "    <tr>\n",
       "      <th>11</th>\n",
       "      <td>12.75</td>\n",
       "      <td>2</td>\n",
       "    </tr>\n",
       "    <tr>\n",
       "      <th>12</th>\n",
       "      <td>12.50</td>\n",
       "      <td>2</td>\n",
       "    </tr>\n",
       "    <tr>\n",
       "      <th>13</th>\n",
       "      <td>12.50</td>\n",
       "      <td>2</td>\n",
       "    </tr>\n",
       "    <tr>\n",
       "      <th>14</th>\n",
       "      <td>12.40</td>\n",
       "      <td>2</td>\n",
       "    </tr>\n",
       "    <tr>\n",
       "      <th>15</th>\n",
       "      <td>12.30</td>\n",
       "      <td>2</td>\n",
       "    </tr>\n",
       "    <tr>\n",
       "      <th>16</th>\n",
       "      <td>11.90</td>\n",
       "      <td>2</td>\n",
       "    </tr>\n",
       "    <tr>\n",
       "      <th>17</th>\n",
       "      <td>11.90</td>\n",
       "      <td>2</td>\n",
       "    </tr>\n",
       "    <tr>\n",
       "      <th>18</th>\n",
       "      <td>14.00</td>\n",
       "      <td>3</td>\n",
       "    </tr>\n",
       "    <tr>\n",
       "      <th>19</th>\n",
       "      <td>14.00</td>\n",
       "      <td>3</td>\n",
       "    </tr>\n",
       "    <tr>\n",
       "      <th>20</th>\n",
       "      <td>13.51</td>\n",
       "      <td>3</td>\n",
       "    </tr>\n",
       "    <tr>\n",
       "      <th>21</th>\n",
       "      <td>13.50</td>\n",
       "      <td>3</td>\n",
       "    </tr>\n",
       "    <tr>\n",
       "      <th>22</th>\n",
       "      <td>13.50</td>\n",
       "      <td>3</td>\n",
       "    </tr>\n",
       "    <tr>\n",
       "      <th>23</th>\n",
       "      <td>13.25</td>\n",
       "      <td>3</td>\n",
       "    </tr>\n",
       "    <tr>\n",
       "      <th>24</th>\n",
       "      <td>13.00</td>\n",
       "      <td>3</td>\n",
       "    </tr>\n",
       "    <tr>\n",
       "      <th>25</th>\n",
       "      <td>12.50</td>\n",
       "      <td>3</td>\n",
       "    </tr>\n",
       "    <tr>\n",
       "      <th>26</th>\n",
       "      <td>12.50</td>\n",
       "      <td>3</td>\n",
       "    </tr>\n",
       "    <tr>\n",
       "      <th>27</th>\n",
       "      <td>15.00</td>\n",
       "      <td>4</td>\n",
       "    </tr>\n",
       "    <tr>\n",
       "      <th>28</th>\n",
       "      <td>14.00</td>\n",
       "      <td>4</td>\n",
       "    </tr>\n",
       "    <tr>\n",
       "      <th>29</th>\n",
       "      <td>13.75</td>\n",
       "      <td>4</td>\n",
       "    </tr>\n",
       "    <tr>\n",
       "      <th>30</th>\n",
       "      <td>13.59</td>\n",
       "      <td>4</td>\n",
       "    </tr>\n",
       "    <tr>\n",
       "      <th>31</th>\n",
       "      <td>13.25</td>\n",
       "      <td>4</td>\n",
       "    </tr>\n",
       "    <tr>\n",
       "      <th>32</th>\n",
       "      <td>12.97</td>\n",
       "      <td>4</td>\n",
       "    </tr>\n",
       "    <tr>\n",
       "      <th>33</th>\n",
       "      <td>12.50</td>\n",
       "      <td>4</td>\n",
       "    </tr>\n",
       "    <tr>\n",
       "      <th>34</th>\n",
       "      <td>12.25</td>\n",
       "      <td>4</td>\n",
       "    </tr>\n",
       "    <tr>\n",
       "      <th>35</th>\n",
       "      <td>11.89</td>\n",
       "      <td>4</td>\n",
       "    </tr>\n",
       "    <tr>\n",
       "      <th>36</th>\n",
       "      <td>14.50</td>\n",
       "      <td>5</td>\n",
       "    </tr>\n",
       "    <tr>\n",
       "      <th>37</th>\n",
       "      <td>14.00</td>\n",
       "      <td>5</td>\n",
       "    </tr>\n",
       "    <tr>\n",
       "      <th>38</th>\n",
       "      <td>14.00</td>\n",
       "      <td>5</td>\n",
       "    </tr>\n",
       "    <tr>\n",
       "      <th>39</th>\n",
       "      <td>13.90</td>\n",
       "      <td>5</td>\n",
       "    </tr>\n",
       "    <tr>\n",
       "      <th>40</th>\n",
       "      <td>13.75</td>\n",
       "      <td>5</td>\n",
       "    </tr>\n",
       "    <tr>\n",
       "      <th>41</th>\n",
       "      <td>13.25</td>\n",
       "      <td>5</td>\n",
       "    </tr>\n",
       "    <tr>\n",
       "      <th>42</th>\n",
       "      <td>13.00</td>\n",
       "      <td>5</td>\n",
       "    </tr>\n",
       "    <tr>\n",
       "      <th>43</th>\n",
       "      <td>12.50</td>\n",
       "      <td>5</td>\n",
       "    </tr>\n",
       "    <tr>\n",
       "      <th>44</th>\n",
       "      <td>12.45</td>\n",
       "      <td>5</td>\n",
       "    </tr>\n",
       "    <tr>\n",
       "      <th>45</th>\n",
       "      <td>13.50</td>\n",
       "      <td>6</td>\n",
       "    </tr>\n",
       "    <tr>\n",
       "      <th>46</th>\n",
       "      <td>12.25</td>\n",
       "      <td>6</td>\n",
       "    </tr>\n",
       "    <tr>\n",
       "      <th>47</th>\n",
       "      <td>12.25</td>\n",
       "      <td>6</td>\n",
       "    </tr>\n",
       "    <tr>\n",
       "      <th>48</th>\n",
       "      <td>12.00</td>\n",
       "      <td>6</td>\n",
       "    </tr>\n",
       "    <tr>\n",
       "      <th>49</th>\n",
       "      <td>12.00</td>\n",
       "      <td>6</td>\n",
       "    </tr>\n",
       "    <tr>\n",
       "      <th>50</th>\n",
       "      <td>12.00</td>\n",
       "      <td>6</td>\n",
       "    </tr>\n",
       "    <tr>\n",
       "      <th>51</th>\n",
       "      <td>12.00</td>\n",
       "      <td>6</td>\n",
       "    </tr>\n",
       "    <tr>\n",
       "      <th>52</th>\n",
       "      <td>11.90</td>\n",
       "      <td>6</td>\n",
       "    </tr>\n",
       "    <tr>\n",
       "      <th>53</th>\n",
       "      <td>11.90</td>\n",
       "      <td>6</td>\n",
       "    </tr>\n",
       "  </tbody>\n",
       "</table>\n",
       "</div>"
      ],
      "text/plain": [
       "    Interest  City\n",
       "0      13.75     1\n",
       "1      13.75     1\n",
       "2      13.50     1\n",
       "3      13.50     1\n",
       "4      13.00     1\n",
       "5      13.00     1\n",
       "6      13.00     1\n",
       "7      12.75     1\n",
       "8      12.50     1\n",
       "9      14.25     2\n",
       "10     13.00     2\n",
       "11     12.75     2\n",
       "12     12.50     2\n",
       "13     12.50     2\n",
       "14     12.40     2\n",
       "15     12.30     2\n",
       "16     11.90     2\n",
       "17     11.90     2\n",
       "18     14.00     3\n",
       "19     14.00     3\n",
       "20     13.51     3\n",
       "21     13.50     3\n",
       "22     13.50     3\n",
       "23     13.25     3\n",
       "24     13.00     3\n",
       "25     12.50     3\n",
       "26     12.50     3\n",
       "27     15.00     4\n",
       "28     14.00     4\n",
       "29     13.75     4\n",
       "30     13.59     4\n",
       "31     13.25     4\n",
       "32     12.97     4\n",
       "33     12.50     4\n",
       "34     12.25     4\n",
       "35     11.89     4\n",
       "36     14.50     5\n",
       "37     14.00     5\n",
       "38     14.00     5\n",
       "39     13.90     5\n",
       "40     13.75     5\n",
       "41     13.25     5\n",
       "42     13.00     5\n",
       "43     12.50     5\n",
       "44     12.45     5\n",
       "45     13.50     6\n",
       "46     12.25     6\n",
       "47     12.25     6\n",
       "48     12.00     6\n",
       "49     12.00     6\n",
       "50     12.00     6\n",
       "51     12.00     6\n",
       "52     11.90     6\n",
       "53     11.90     6"
      ]
     },
     "execution_count": 88,
     "metadata": {},
     "output_type": "execute_result"
    }
   ],
   "source": [
    "car_interest_data"
   ]
  },
  {
   "cell_type": "code",
   "execution_count": 93,
   "metadata": {},
   "outputs": [
    {
     "data": {
      "image/png": "[encoded data removed]",
      "text/plain": [
       "<Figure size 432x288 with 1 Axes>"
      ]
     },
     "metadata": {
      "needs_background": "light"
     },
     "output_type": "display_data"
    }
   ],
   "source": [
    "plt.hist(car_interest_data[\"Interest\"])\n",
    "plt.show()"
   ]
  },
  {
   "cell_type": "code",
   "execution_count": 104,
   "metadata": {},
   "outputs": [
    {
     "data": {
      "image/png": "[encoded data removed]",
      "text/plain": [
       "<Figure size 432x288 with 1 Axes>"
      ]
     },
     "metadata": {
      "needs_background": "light"
     },
     "output_type": "display_data"
    },
    {
     "data": {
      "image/png": "[encoded data removed]",
      "text/plain": [
       "<Figure size 432x288 with 1 Axes>"
      ]
     },
     "metadata": {
      "needs_background": "light"
     },
     "output_type": "display_data"
    },
    {
     "data": {
      "image/png": "[encoded data removed]",
      "text/plain": [
       "<Figure size 432x288 with 1 Axes>"
      ]
     },
     "metadata": {
      "needs_background": "light"
     },
     "output_type": "display_data"
    },
    {
     "data": {
      "image/png": "[encoded data removed]",
      "text/plain": [
       "<Figure size 432x288 with 1 Axes>"
      ]
     },
     "metadata": {
      "needs_background": "light"
     },
     "output_type": "display_data"
    },
    {
     "data": {
      "image/png": "[encoded data removed]",
      "text/plain": [
       "<Figure size 432x288 with 1 Axes>"
      ]
     },
     "metadata": {
      "needs_background": "light"
     },
     "output_type": "display_data"
    },
    {
     "data": {
      "image/png": "[encoded data removed]",
      "text/plain": [
       "<Figure size 432x288 with 1 Axes>"
      ]
     },
     "metadata": {
      "needs_background": "light"
     },
     "output_type": "display_data"
    }
   ],
   "source": [
    "for city, data in car_interest_data.groupby(\"City\"):\n",
    "    plt.hist(data[\"Interest\"], label = city, alpha = 0.3)\n",
    "    plt.title(label=city)\n",
    "    plt.show()\n",
    "# plt.legend()\n",
    "# plt.show()"
   ]
  },
  {
   "cell_type": "markdown",
   "metadata": {},
   "source": [
    "Good. We see data that means nothing to us :D"
   ]
  },
  {
   "cell_type": "code",
   "execution_count": 111,
   "metadata": {},
   "outputs": [
    {
     "data": {
      "text/plain": [
       "{1: [13.75, 13.75, 13.5, 13.5, 13.0, 13.0, 13.0, 12.75, 12.5],\n",
       " 2: [14.25, 13.0, 12.75, 12.5, 12.5, 12.4, 12.3, 11.9, 11.9],\n",
       " 3: [14.0, 14.0, 13.51, 13.5, 13.5, 13.25, 13.0, 12.5, 12.5],\n",
       " 4: [15.0, 14.0, 13.75, 13.59, 13.25, 12.97, 12.5, 12.25, 11.89],\n",
       " 5: [14.5, 14.0, 14.0, 13.9, 13.75, 13.25, 13.0, 12.5, 12.45],\n",
       " 6: [13.5, 12.25, 12.25, 12.0, 12.0, 12.0, 12.0, 11.9, 11.9]}"
      ]
     },
     "execution_count": 111,
     "metadata": {},
     "output_type": "execute_result"
    }
   ],
   "source": [
    "tbs = {k: v.tolist() for k, v in car_interest_data.groupby(\"City\")[\"Interest\"]}\n",
    "tbs"
   ]
  },
  {
   "cell_type": "code",
   "execution_count": 110,
   "metadata": {},
   "outputs": [
    {
     "data": {
      "text/plain": [
       "F_onewayResult(statistic=4.8293848737024, pvalue=0.001174551414504048)"
      ]
     },
     "execution_count": 110,
     "metadata": {},
     "output_type": "execute_result"
    }
   ],
   "source": [
    "st.f_oneway(*tbl.values())"
   ]
  },
  {
   "cell_type": "markdown",
   "metadata": {},
   "source": [
    "Well, most analyses aren't so simple. Let's have a look at another dataset. This one is located [here](http://www.itl.nist.gov/div898/education/anova/ratfeed.dat). Get acquainted with it.\n",
    "\n",
    "This time, we've got two explanatory variables: amount and type of diet.\n",
    "\n",
    "Perform one-way ANOVA to each variable separately, disregarding the other one. \n",
    "\n",
    "To do this, take for example the \"Amount\" variable. Group all weights by amount, disregarding the diet type. Perform ANOVA on the groups, like you did before. Repeat the same process with \"Diet\".\n",
    "\n",
    "Do the groups differ significantly at the 5%-level?"
   ]
  },
  {
   "cell_type": "code",
   "execution_count": 125,
   "metadata": {},
   "outputs": [
    {
     "data": {
      "text/html": [
       "<div>\n",
       "<style scoped>\n",
       "    .dataframe tbody tr th:only-of-type {\n",
       "        vertical-align: middle;\n",
       "    }\n",
       "\n",
       "    .dataframe tbody tr th {\n",
       "        vertical-align: top;\n",
       "    }\n",
       "\n",
       "    .dataframe thead th {\n",
       "        text-align: right;\n",
       "    }\n",
       "</style>\n",
       "<table border=\"1\" class=\"dataframe\">\n",
       "  <thead>\n",
       "    <tr style=\"text-align: right;\">\n",
       "      <th></th>\n",
       "      <th>Weight</th>\n",
       "      <th>Amount</th>\n",
       "      <th>Diet</th>\n",
       "    </tr>\n",
       "  </thead>\n",
       "  <tbody>\n",
       "    <tr>\n",
       "      <th>0</th>\n",
       "      <td>118</td>\n",
       "      <td>1</td>\n",
       "      <td>1</td>\n",
       "    </tr>\n",
       "    <tr>\n",
       "      <th>1</th>\n",
       "      <td>117</td>\n",
       "      <td>1</td>\n",
       "      <td>1</td>\n",
       "    </tr>\n",
       "    <tr>\n",
       "      <th>2</th>\n",
       "      <td>111</td>\n",
       "      <td>1</td>\n",
       "      <td>1</td>\n",
       "    </tr>\n",
       "    <tr>\n",
       "      <th>3</th>\n",
       "      <td>107</td>\n",
       "      <td>1</td>\n",
       "      <td>1</td>\n",
       "    </tr>\n",
       "    <tr>\n",
       "      <th>4</th>\n",
       "      <td>104</td>\n",
       "      <td>1</td>\n",
       "      <td>1</td>\n",
       "    </tr>\n",
       "    <tr>\n",
       "      <th>5</th>\n",
       "      <td>102</td>\n",
       "      <td>1</td>\n",
       "      <td>1</td>\n",
       "    </tr>\n",
       "    <tr>\n",
       "      <th>6</th>\n",
       "      <td>100</td>\n",
       "      <td>1</td>\n",
       "      <td>1</td>\n",
       "    </tr>\n",
       "    <tr>\n",
       "      <th>7</th>\n",
       "      <td>87</td>\n",
       "      <td>1</td>\n",
       "      <td>1</td>\n",
       "    </tr>\n",
       "    <tr>\n",
       "      <th>8</th>\n",
       "      <td>81</td>\n",
       "      <td>1</td>\n",
       "      <td>1</td>\n",
       "    </tr>\n",
       "    <tr>\n",
       "      <th>9</th>\n",
       "      <td>73</td>\n",
       "      <td>1</td>\n",
       "      <td>1</td>\n",
       "    </tr>\n",
       "    <tr>\n",
       "      <th>10</th>\n",
       "      <td>120</td>\n",
       "      <td>1</td>\n",
       "      <td>2</td>\n",
       "    </tr>\n",
       "    <tr>\n",
       "      <th>11</th>\n",
       "      <td>108</td>\n",
       "      <td>1</td>\n",
       "      <td>2</td>\n",
       "    </tr>\n",
       "    <tr>\n",
       "      <th>12</th>\n",
       "      <td>105</td>\n",
       "      <td>1</td>\n",
       "      <td>2</td>\n",
       "    </tr>\n",
       "    <tr>\n",
       "      <th>13</th>\n",
       "      <td>102</td>\n",
       "      <td>1</td>\n",
       "      <td>2</td>\n",
       "    </tr>\n",
       "    <tr>\n",
       "      <th>14</th>\n",
       "      <td>102</td>\n",
       "      <td>1</td>\n",
       "      <td>2</td>\n",
       "    </tr>\n",
       "    <tr>\n",
       "      <th>15</th>\n",
       "      <td>98</td>\n",
       "      <td>1</td>\n",
       "      <td>2</td>\n",
       "    </tr>\n",
       "    <tr>\n",
       "      <th>16</th>\n",
       "      <td>96</td>\n",
       "      <td>1</td>\n",
       "      <td>2</td>\n",
       "    </tr>\n",
       "    <tr>\n",
       "      <th>17</th>\n",
       "      <td>94</td>\n",
       "      <td>1</td>\n",
       "      <td>2</td>\n",
       "    </tr>\n",
       "    <tr>\n",
       "      <th>18</th>\n",
       "      <td>91</td>\n",
       "      <td>1</td>\n",
       "      <td>2</td>\n",
       "    </tr>\n",
       "    <tr>\n",
       "      <th>19</th>\n",
       "      <td>79</td>\n",
       "      <td>1</td>\n",
       "      <td>2</td>\n",
       "    </tr>\n",
       "    <tr>\n",
       "      <th>20</th>\n",
       "      <td>111</td>\n",
       "      <td>1</td>\n",
       "      <td>3</td>\n",
       "    </tr>\n",
       "    <tr>\n",
       "      <th>21</th>\n",
       "      <td>98</td>\n",
       "      <td>1</td>\n",
       "      <td>3</td>\n",
       "    </tr>\n",
       "    <tr>\n",
       "      <th>22</th>\n",
       "      <td>95</td>\n",
       "      <td>1</td>\n",
       "      <td>3</td>\n",
       "    </tr>\n",
       "    <tr>\n",
       "      <th>23</th>\n",
       "      <td>92</td>\n",
       "      <td>1</td>\n",
       "      <td>3</td>\n",
       "    </tr>\n",
       "    <tr>\n",
       "      <th>24</th>\n",
       "      <td>88</td>\n",
       "      <td>1</td>\n",
       "      <td>3</td>\n",
       "    </tr>\n",
       "    <tr>\n",
       "      <th>25</th>\n",
       "      <td>86</td>\n",
       "      <td>1</td>\n",
       "      <td>3</td>\n",
       "    </tr>\n",
       "    <tr>\n",
       "      <th>26</th>\n",
       "      <td>82</td>\n",
       "      <td>1</td>\n",
       "      <td>3</td>\n",
       "    </tr>\n",
       "    <tr>\n",
       "      <th>27</th>\n",
       "      <td>77</td>\n",
       "      <td>1</td>\n",
       "      <td>3</td>\n",
       "    </tr>\n",
       "    <tr>\n",
       "      <th>28</th>\n",
       "      <td>74</td>\n",
       "      <td>1</td>\n",
       "      <td>3</td>\n",
       "    </tr>\n",
       "    <tr>\n",
       "      <th>29</th>\n",
       "      <td>56</td>\n",
       "      <td>1</td>\n",
       "      <td>3</td>\n",
       "    </tr>\n",
       "    <tr>\n",
       "      <th>30</th>\n",
       "      <td>95</td>\n",
       "      <td>2</td>\n",
       "      <td>1</td>\n",
       "    </tr>\n",
       "    <tr>\n",
       "      <th>31</th>\n",
       "      <td>90</td>\n",
       "      <td>2</td>\n",
       "      <td>1</td>\n",
       "    </tr>\n",
       "    <tr>\n",
       "      <th>32</th>\n",
       "      <td>90</td>\n",
       "      <td>2</td>\n",
       "      <td>1</td>\n",
       "    </tr>\n",
       "    <tr>\n",
       "      <th>33</th>\n",
       "      <td>90</td>\n",
       "      <td>2</td>\n",
       "      <td>1</td>\n",
       "    </tr>\n",
       "    <tr>\n",
       "      <th>34</th>\n",
       "      <td>86</td>\n",
       "      <td>2</td>\n",
       "      <td>1</td>\n",
       "    </tr>\n",
       "    <tr>\n",
       "      <th>35</th>\n",
       "      <td>78</td>\n",
       "      <td>2</td>\n",
       "      <td>1</td>\n",
       "    </tr>\n",
       "    <tr>\n",
       "      <th>36</th>\n",
       "      <td>76</td>\n",
       "      <td>2</td>\n",
       "      <td>1</td>\n",
       "    </tr>\n",
       "    <tr>\n",
       "      <th>37</th>\n",
       "      <td>72</td>\n",
       "      <td>2</td>\n",
       "      <td>1</td>\n",
       "    </tr>\n",
       "    <tr>\n",
       "      <th>38</th>\n",
       "      <td>64</td>\n",
       "      <td>2</td>\n",
       "      <td>1</td>\n",
       "    </tr>\n",
       "    <tr>\n",
       "      <th>39</th>\n",
       "      <td>51</td>\n",
       "      <td>2</td>\n",
       "      <td>1</td>\n",
       "    </tr>\n",
       "    <tr>\n",
       "      <th>40</th>\n",
       "      <td>106</td>\n",
       "      <td>2</td>\n",
       "      <td>2</td>\n",
       "    </tr>\n",
       "    <tr>\n",
       "      <th>41</th>\n",
       "      <td>97</td>\n",
       "      <td>2</td>\n",
       "      <td>2</td>\n",
       "    </tr>\n",
       "    <tr>\n",
       "      <th>42</th>\n",
       "      <td>86</td>\n",
       "      <td>2</td>\n",
       "      <td>2</td>\n",
       "    </tr>\n",
       "    <tr>\n",
       "      <th>43</th>\n",
       "      <td>82</td>\n",
       "      <td>2</td>\n",
       "      <td>2</td>\n",
       "    </tr>\n",
       "    <tr>\n",
       "      <th>44</th>\n",
       "      <td>82</td>\n",
       "      <td>2</td>\n",
       "      <td>2</td>\n",
       "    </tr>\n",
       "    <tr>\n",
       "      <th>45</th>\n",
       "      <td>81</td>\n",
       "      <td>2</td>\n",
       "      <td>2</td>\n",
       "    </tr>\n",
       "    <tr>\n",
       "      <th>46</th>\n",
       "      <td>73</td>\n",
       "      <td>2</td>\n",
       "      <td>2</td>\n",
       "    </tr>\n",
       "    <tr>\n",
       "      <th>47</th>\n",
       "      <td>70</td>\n",
       "      <td>2</td>\n",
       "      <td>2</td>\n",
       "    </tr>\n",
       "    <tr>\n",
       "      <th>48</th>\n",
       "      <td>61</td>\n",
       "      <td>2</td>\n",
       "      <td>2</td>\n",
       "    </tr>\n",
       "    <tr>\n",
       "      <th>49</th>\n",
       "      <td>49</td>\n",
       "      <td>2</td>\n",
       "      <td>2</td>\n",
       "    </tr>\n",
       "    <tr>\n",
       "      <th>50</th>\n",
       "      <td>107</td>\n",
       "      <td>2</td>\n",
       "      <td>3</td>\n",
       "    </tr>\n",
       "    <tr>\n",
       "      <th>51</th>\n",
       "      <td>98</td>\n",
       "      <td>2</td>\n",
       "      <td>3</td>\n",
       "    </tr>\n",
       "    <tr>\n",
       "      <th>52</th>\n",
       "      <td>97</td>\n",
       "      <td>2</td>\n",
       "      <td>3</td>\n",
       "    </tr>\n",
       "    <tr>\n",
       "      <th>53</th>\n",
       "      <td>95</td>\n",
       "      <td>2</td>\n",
       "      <td>3</td>\n",
       "    </tr>\n",
       "    <tr>\n",
       "      <th>54</th>\n",
       "      <td>89</td>\n",
       "      <td>2</td>\n",
       "      <td>3</td>\n",
       "    </tr>\n",
       "    <tr>\n",
       "      <th>55</th>\n",
       "      <td>80</td>\n",
       "      <td>2</td>\n",
       "      <td>3</td>\n",
       "    </tr>\n",
       "    <tr>\n",
       "      <th>56</th>\n",
       "      <td>74</td>\n",
       "      <td>2</td>\n",
       "      <td>3</td>\n",
       "    </tr>\n",
       "    <tr>\n",
       "      <th>57</th>\n",
       "      <td>74</td>\n",
       "      <td>2</td>\n",
       "      <td>3</td>\n",
       "    </tr>\n",
       "    <tr>\n",
       "      <th>58</th>\n",
       "      <td>67</td>\n",
       "      <td>2</td>\n",
       "      <td>3</td>\n",
       "    </tr>\n",
       "    <tr>\n",
       "      <th>59</th>\n",
       "      <td>58</td>\n",
       "      <td>2</td>\n",
       "      <td>3</td>\n",
       "    </tr>\n",
       "  </tbody>\n",
       "</table>\n",
       "</div>"
      ],
      "text/plain": [
       "    Weight  Amount  Diet\n",
       "0      118       1     1\n",
       "1      117       1     1\n",
       "2      111       1     1\n",
       "3      107       1     1\n",
       "4      104       1     1\n",
       "5      102       1     1\n",
       "6      100       1     1\n",
       "7       87       1     1\n",
       "8       81       1     1\n",
       "9       73       1     1\n",
       "10     120       1     2\n",
       "11     108       1     2\n",
       "12     105       1     2\n",
       "13     102       1     2\n",
       "14     102       1     2\n",
       "15      98       1     2\n",
       "16      96       1     2\n",
       "17      94       1     2\n",
       "18      91       1     2\n",
       "19      79       1     2\n",
       "20     111       1     3\n",
       "21      98       1     3\n",
       "22      95       1     3\n",
       "23      92       1     3\n",
       "24      88       1     3\n",
       "25      86       1     3\n",
       "26      82       1     3\n",
       "27      77       1     3\n",
       "28      74       1     3\n",
       "29      56       1     3\n",
       "30      95       2     1\n",
       "31      90       2     1\n",
       "32      90       2     1\n",
       "33      90       2     1\n",
       "34      86       2     1\n",
       "35      78       2     1\n",
       "36      76       2     1\n",
       "37      72       2     1\n",
       "38      64       2     1\n",
       "39      51       2     1\n",
       "40     106       2     2\n",
       "41      97       2     2\n",
       "42      86       2     2\n",
       "43      82       2     2\n",
       "44      82       2     2\n",
       "45      81       2     2\n",
       "46      73       2     2\n",
       "47      70       2     2\n",
       "48      61       2     2\n",
       "49      49       2     2\n",
       "50     107       2     3\n",
       "51      98       2     3\n",
       "52      97       2     3\n",
       "53      95       2     3\n",
       "54      89       2     3\n",
       "55      80       2     3\n",
       "56      74       2     3\n",
       "57      74       2     3\n",
       "58      67       2     3\n",
       "59      58       2     3"
      ]
     },
     "execution_count": 125,
     "metadata": {},
     "output_type": "execute_result"
    }
   ],
   "source": [
    "rat_data = pd.read_fwf(\"https://www.itl.nist.gov/div898/education/anova/ratfeed.dat\", skiprows = 25, header=None)\n",
    "rat_data.columns = [\"Weight\", \"Amount\", \"Diet\"]\n",
    "rat_data"
   ]
  },
  {
   "cell_type": "code",
   "execution_count": 127,
   "metadata": {},
   "outputs": [
    {
     "data": {
      "text/plain": [
       "1    30\n",
       "2    30\n",
       "Name: Amount, dtype: int64"
      ]
     },
     "execution_count": 127,
     "metadata": {},
     "output_type": "execute_result"
    }
   ],
   "source": [
    "rat_data[\"Amount\"].value_counts()"
   ]
  },
  {
   "cell_type": "code",
   "execution_count": 129,
   "metadata": {},
   "outputs": [
    {
     "data": {
      "text/plain": [
       "1    20\n",
       "2    20\n",
       "3    20\n",
       "Name: Diet, dtype: int64"
      ]
     },
     "execution_count": 129,
     "metadata": {},
     "output_type": "execute_result"
    }
   ],
   "source": [
    "rat_data[\"Diet\"].value_counts()"
   ]
  },
  {
   "cell_type": "code",
   "execution_count": 130,
   "metadata": {},
   "outputs": [
    {
     "data": {
      "text/plain": [
       "74     3\n",
       "102    3\n",
       "82     3\n",
       "86     3\n",
       "90     3\n",
       "98     3\n",
       "95     3\n",
       "111    2\n",
       "107    2\n",
       "81     2\n",
       "73     2\n",
       "97     2\n",
       "64     1\n",
       "78     1\n",
       "76     1\n",
       "72     1\n",
       "118    1\n",
       "51     1\n",
       "106    1\n",
       "61     1\n",
       "49     1\n",
       "89     1\n",
       "80     1\n",
       "67     1\n",
       "70     1\n",
       "88     1\n",
       "56     1\n",
       "77     1\n",
       "117    1\n",
       "92     1\n",
       "79     1\n",
       "91     1\n",
       "94     1\n",
       "96     1\n",
       "105    1\n",
       "108    1\n",
       "120    1\n",
       "87     1\n",
       "100    1\n",
       "104    1\n",
       "58     1\n",
       "Name: Weight, dtype: int64"
      ]
     },
     "execution_count": 130,
     "metadata": {},
     "output_type": "execute_result"
    }
   ],
   "source": [
    "rat_data[\"Weight\"].value_counts()"
   ]
  },
  {
   "cell_type": "code",
   "execution_count": 131,
   "metadata": {},
   "outputs": [
    {
     "data": {
      "text/plain": [
       "Amount  Diet\n",
       "1       1       10\n",
       "        2       10\n",
       "        3       10\n",
       "2       1       10\n",
       "        2       10\n",
       "        3       10\n",
       "dtype: int64"
      ]
     },
     "execution_count": 131,
     "metadata": {},
     "output_type": "execute_result"
    }
   ],
   "source": [
    "rat_data.groupby([\"Amount\", \"Diet\"]).size()"
   ]
  },
  {
   "cell_type": "code",
   "execution_count": 132,
   "metadata": {},
   "outputs": [
    {
     "data": {
      "text/plain": [
       "Amount  Diet\n",
       "1       1       100.0\n",
       "        2        99.5\n",
       "        3        85.9\n",
       "2       1        79.2\n",
       "        2        78.7\n",
       "        3        83.9\n",
       "Name: Weight, dtype: float64"
      ]
     },
     "execution_count": 132,
     "metadata": {},
     "output_type": "execute_result"
    }
   ],
   "source": [
    "rat_data.groupby([\"Amount\", \"Diet\"]).Weight.mean()"
   ]
  },
  {
   "cell_type": "code",
   "execution_count": 135,
   "metadata": {},
   "outputs": [
    {
     "data": {
      "text/plain": [
       "F_onewayResult(statistic=14.102077151335312, pvalue=0.00040332283036763615)"
      ]
     },
     "execution_count": 135,
     "metadata": {},
     "output_type": "execute_result"
    }
   ],
   "source": [
    "st.f_oneway(rat_data[rat_data[\"Amount\"] == 1][\"Weight\"], rat_data[rat_data[\"Amount\"] == 2][\"Weight\"])"
   ]
  },
  {
   "cell_type": "markdown",
   "metadata": {},
   "source": [
    "Sometimes we have to take into account multiple values. In this case, we want to ask another question: Is there a significant difference between combinations of diet and amount? These are called **interacting variables**. Unfortunately, there isn't a quick and easy way to perform this test in `scipy.stats`, but `statsmodels` is another library which will come in handy.\n",
    "\n",
    "We won't go into many details how it works but you basically create a linear model (`ols` stands for \"ordinary least squares\") and you provide a formula. The formula we want to use looks like this:\n",
    "```python\n",
    "formula = \"Weight ~ C(Amount) + C(Diet) + C(Amount):C(Diet)\"\n",
    "```\n",
    "\n",
    "`Weight`, `Amount` and `Diet` are the **column names** (i.e. variable names) in the dataset. `C(Amount)` tells the library to treat the variable as *categorical*, not numerical (e.g. diet 1 + diet 3 makes absolutely no sense). Finally `C(Amount):C(Diet)` means that we take the interaction between these categories (Cartesian product - every amount with every diet).\n",
    "\n",
    "How do we read this formula? \"The Weight column is proportional to the categories Amount, Diet and their interaction\" (i.e. Weight is a linear combination of the three other variables).\n",
    "\n",
    "We are now ready. Well, we could have done all this by hand as well, but why bother :)? Just create the linear model:\n",
    "```python\n",
    "model = ols(formula, rats).fit()\n",
    "```\n",
    "\n",
    "and the ANOVA table:\n",
    "```python\n",
    "table = statsmodels.stats.anova.anova_lm(model, typ = 2)\n",
    "```\n",
    "\n",
    "You can see there's \"type 2\" ANOVA chosen. If you're interested, you can read more about the three types of ANOVA [here](https://mcfromnz.wordpress.com/2011/03/02/anova-type-iiiiii-ss-explained/)\n",
    "\n",
    "P. S.: The type of formulas we described above are typical for another popular language for statistics and data analysis, called **R**. They're also why many people hate R. They're good but need a bit of understanding and getting accustomed to. Case closed :D."
   ]
  },
  {
   "cell_type": "code",
   "execution_count": 137,
   "metadata": {},
   "outputs": [],
   "source": [
    "formula = \"Weight ~ C(Amount) + C(Diet) + C(Amount):C(Diet)\"\n",
    "ols_model = ols(formula, rat_data).fit()"
   ]
  },
  {
   "cell_type": "code",
   "execution_count": 138,
   "metadata": {},
   "outputs": [
    {
     "data": {
      "text/html": [
       "<table class=\"simpletable\">\n",
       "<caption>OLS Regression Results</caption>\n",
       "<tr>\n",
       "  <th>Dep. Variable:</th>         <td>Weight</td>      <th>  R-squared:         </th> <td>   0.285</td>\n",
       "</tr>\n",
       "<tr>\n",
       "  <th>Model:</th>                   <td>OLS</td>       <th>  Adj. R-squared:    </th> <td>   0.219</td>\n",
       "</tr>\n",
       "<tr>\n",
       "  <th>Method:</th>             <td>Least Squares</td>  <th>  F-statistic:       </th> <td>   4.300</td>\n",
       "</tr>\n",
       "<tr>\n",
       "  <th>Date:</th>             <td>Sun, 12 Jun 2022</td> <th>  Prob (F-statistic):</th>  <td>0.00230</td>\n",
       "</tr>\n",
       "<tr>\n",
       "  <th>Time:</th>                 <td>23:27:03</td>     <th>  Log-Likelihood:    </th> <td> -243.03</td>\n",
       "</tr>\n",
       "<tr>\n",
       "  <th>No. Observations:</th>      <td>    60</td>      <th>  AIC:               </th> <td>   498.1</td>\n",
       "</tr>\n",
       "<tr>\n",
       "  <th>Df Residuals:</th>          <td>    54</td>      <th>  BIC:               </th> <td>   510.6</td>\n",
       "</tr>\n",
       "<tr>\n",
       "  <th>Df Model:</th>              <td>     5</td>      <th>                     </th>     <td> </td>   \n",
       "</tr>\n",
       "<tr>\n",
       "  <th>Covariance Type:</th>      <td>nonrobust</td>    <th>                     </th>     <td> </td>   \n",
       "</tr>\n",
       "</table>\n",
       "<table class=\"simpletable\">\n",
       "<tr>\n",
       "               <td></td>                  <th>coef</th>     <th>std err</th>      <th>t</th>      <th>P>|t|</th>  <th>[0.025</th>    <th>0.975]</th>  \n",
       "</tr>\n",
       "<tr>\n",
       "  <th>Intercept</th>                   <td>  100.0000</td> <td>    4.632</td> <td>   21.589</td> <td> 0.000</td> <td>   90.713</td> <td>  109.287</td>\n",
       "</tr>\n",
       "<tr>\n",
       "  <th>C(Amount)[T.2]</th>              <td>  -20.8000</td> <td>    6.551</td> <td>   -3.175</td> <td> 0.002</td> <td>  -33.933</td> <td>   -7.667</td>\n",
       "</tr>\n",
       "<tr>\n",
       "  <th>C(Diet)[T.2]</th>                <td>   -0.5000</td> <td>    6.551</td> <td>   -0.076</td> <td> 0.939</td> <td>  -13.633</td> <td>   12.633</td>\n",
       "</tr>\n",
       "<tr>\n",
       "  <th>C(Diet)[T.3]</th>                <td>  -14.1000</td> <td>    6.551</td> <td>   -2.152</td> <td> 0.036</td> <td>  -27.233</td> <td>   -0.967</td>\n",
       "</tr>\n",
       "<tr>\n",
       "  <th>C(Amount)[T.2]:C(Diet)[T.2]</th> <td>         0</td> <td>    9.264</td> <td>        0</td> <td> 1.000</td> <td>  -18.573</td> <td>   18.573</td>\n",
       "</tr>\n",
       "<tr>\n",
       "  <th>C(Amount)[T.2]:C(Diet)[T.3]</th> <td>   18.8000</td> <td>    9.264</td> <td>    2.029</td> <td> 0.047</td> <td>    0.227</td> <td>   37.373</td>\n",
       "</tr>\n",
       "</table>\n",
       "<table class=\"simpletable\">\n",
       "<tr>\n",
       "  <th>Omnibus:</th>       <td> 1.646</td> <th>  Durbin-Watson:     </th> <td>   1.277</td>\n",
       "</tr>\n",
       "<tr>\n",
       "  <th>Prob(Omnibus):</th> <td> 0.439</td> <th>  Jarque-Bera (JB):  </th> <td>   1.647</td>\n",
       "</tr>\n",
       "<tr>\n",
       "  <th>Skew:</th>          <td>-0.349</td> <th>  Prob(JB):          </th> <td>   0.439</td>\n",
       "</tr>\n",
       "<tr>\n",
       "  <th>Kurtosis:</th>      <td> 2.585</td> <th>  Cond. No.          </th> <td>    9.77</td>\n",
       "</tr>\n",
       "</table><br/><br/>Notes:<br/>[1] Standard Errors assume that the covariance matrix of the errors is correctly specified."
      ],
      "text/plain": [
       "<class 'statsmodels.iolib.summary.Summary'>\n",
       "\"\"\"\n",
       "                            OLS Regression Results                            \n",
       "==============================================================================\n",
       "Dep. Variable:                 Weight   R-squared:                       0.285\n",
       "Model:                            OLS   Adj. R-squared:                  0.219\n",
       "Method:                 Least Squares   F-statistic:                     4.300\n",
       "Date:                Sun, 12 Jun 2022   Prob (F-statistic):            0.00230\n",
       "Time:                        23:27:03   Log-Likelihood:                -243.03\n",
       "No. Observations:                  60   AIC:                             498.1\n",
       "Df Residuals:                      54   BIC:                             510.6\n",
       "Df Model:                           5                                         \n",
       "Covariance Type:            nonrobust                                         \n",
       "===============================================================================================\n",
       "                                  coef    std err          t      P>|t|      [0.025      0.975]\n",
       "-----------------------------------------------------------------------------------------------\n",
       "Intercept                     100.0000      4.632     21.589      0.000      90.713     109.287\n",
       "C(Amount)[T.2]                -20.8000      6.551     -3.175      0.002     -33.933      -7.667\n",
       "C(Diet)[T.2]                   -0.5000      6.551     -0.076      0.939     -13.633      12.633\n",
       "C(Diet)[T.3]                  -14.1000      6.551     -2.152      0.036     -27.233      -0.967\n",
       "C(Amount)[T.2]:C(Diet)[T.2]          0      9.264          0      1.000     -18.573      18.573\n",
       "C(Amount)[T.2]:C(Diet)[T.3]    18.8000      9.264      2.029      0.047       0.227      37.373\n",
       "==============================================================================\n",
       "Omnibus:                        1.646   Durbin-Watson:                   1.277\n",
       "Prob(Omnibus):                  0.439   Jarque-Bera (JB):                1.647\n",
       "Skew:                          -0.349   Prob(JB):                        0.439\n",
       "Kurtosis:                       2.585   Cond. No.                         9.77\n",
       "==============================================================================\n",
       "\n",
       "Notes:\n",
       "[1] Standard Errors assume that the covariance matrix of the errors is correctly specified.\n",
       "\"\"\""
      ]
     },
     "execution_count": 138,
     "metadata": {},
     "output_type": "execute_result"
    }
   ],
   "source": [
    "ols_model.summary()"
   ]
  },
  {
   "cell_type": "code",
   "execution_count": 140,
   "metadata": {},
   "outputs": [
    {
     "data": {
      "text/html": [
       "<div>\n",
       "<style scoped>\n",
       "    .dataframe tbody tr th:only-of-type {\n",
       "        vertical-align: middle;\n",
       "    }\n",
       "\n",
       "    .dataframe tbody tr th {\n",
       "        vertical-align: top;\n",
       "    }\n",
       "\n",
       "    .dataframe thead th {\n",
       "        text-align: right;\n",
       "    }\n",
       "</style>\n",
       "<table border=\"1\" class=\"dataframe\">\n",
       "  <thead>\n",
       "    <tr style=\"text-align: right;\">\n",
       "      <th></th>\n",
       "      <th>df</th>\n",
       "      <th>sum_sq</th>\n",
       "      <th>mean_sq</th>\n",
       "      <th>F</th>\n",
       "      <th>PR(&gt;F)</th>\n",
       "    </tr>\n",
       "  </thead>\n",
       "  <tbody>\n",
       "    <tr>\n",
       "      <th>C(Amount)</th>\n",
       "      <td>1.0</td>\n",
       "      <td>3168.266667</td>\n",
       "      <td>3168.266667</td>\n",
       "      <td>14.766649</td>\n",
       "      <td>0.000322</td>\n",
       "    </tr>\n",
       "    <tr>\n",
       "      <th>C(Diet)</th>\n",
       "      <td>2.0</td>\n",
       "      <td>266.533333</td>\n",
       "      <td>133.266667</td>\n",
       "      <td>0.621129</td>\n",
       "      <td>0.541132</td>\n",
       "    </tr>\n",
       "    <tr>\n",
       "      <th>C(Amount):C(Diet)</th>\n",
       "      <td>2.0</td>\n",
       "      <td>1178.133333</td>\n",
       "      <td>589.066667</td>\n",
       "      <td>2.745520</td>\n",
       "      <td>0.073188</td>\n",
       "    </tr>\n",
       "    <tr>\n",
       "      <th>Residual</th>\n",
       "      <td>54.0</td>\n",
       "      <td>11586.000000</td>\n",
       "      <td>214.555556</td>\n",
       "      <td>NaN</td>\n",
       "      <td>NaN</td>\n",
       "    </tr>\n",
       "  </tbody>\n",
       "</table>\n",
       "</div>"
      ],
      "text/plain": [
       "                     df        sum_sq      mean_sq          F    PR(>F)\n",
       "C(Amount)           1.0   3168.266667  3168.266667  14.766649  0.000322\n",
       "C(Diet)             2.0    266.533333   133.266667   0.621129  0.541132\n",
       "C(Amount):C(Diet)   2.0   1178.133333   589.066667   2.745520  0.073188\n",
       "Residual           54.0  11586.000000   214.555556        NaN       NaN"
      ]
     },
     "execution_count": 140,
     "metadata": {},
     "output_type": "execute_result"
    }
   ],
   "source": [
    "anova_lm(ols_model)"
   ]
  },
  {
   "cell_type": "code",
   "execution_count": 141,
   "metadata": {},
   "outputs": [
    {
     "data": {
      "text/html": [
       "<div>\n",
       "<style scoped>\n",
       "    .dataframe tbody tr th:only-of-type {\n",
       "        vertical-align: middle;\n",
       "    }\n",
       "\n",
       "    .dataframe tbody tr th {\n",
       "        vertical-align: top;\n",
       "    }\n",
       "\n",
       "    .dataframe thead th {\n",
       "        text-align: right;\n",
       "    }\n",
       "</style>\n",
       "<table border=\"1\" class=\"dataframe\">\n",
       "  <thead>\n",
       "    <tr style=\"text-align: right;\">\n",
       "      <th></th>\n",
       "      <th>sum_sq</th>\n",
       "      <th>df</th>\n",
       "      <th>F</th>\n",
       "      <th>PR(&gt;F)</th>\n",
       "    </tr>\n",
       "  </thead>\n",
       "  <tbody>\n",
       "    <tr>\n",
       "      <th>C(Amount)</th>\n",
       "      <td>3168.266667</td>\n",
       "      <td>1.0</td>\n",
       "      <td>14.766649</td>\n",
       "      <td>0.000322</td>\n",
       "    </tr>\n",
       "    <tr>\n",
       "      <th>C(Diet)</th>\n",
       "      <td>266.533333</td>\n",
       "      <td>2.0</td>\n",
       "      <td>0.621129</td>\n",
       "      <td>0.541132</td>\n",
       "    </tr>\n",
       "    <tr>\n",
       "      <th>C(Amount):C(Diet)</th>\n",
       "      <td>1178.133333</td>\n",
       "      <td>2.0</td>\n",
       "      <td>2.745520</td>\n",
       "      <td>0.073188</td>\n",
       "    </tr>\n",
       "    <tr>\n",
       "      <th>Residual</th>\n",
       "      <td>11586.000000</td>\n",
       "      <td>54.0</td>\n",
       "      <td>NaN</td>\n",
       "      <td>NaN</td>\n",
       "    </tr>\n",
       "  </tbody>\n",
       "</table>\n",
       "</div>"
      ],
      "text/plain": [
       "                         sum_sq    df          F    PR(>F)\n",
       "C(Amount)           3168.266667   1.0  14.766649  0.000322\n",
       "C(Diet)              266.533333   2.0   0.621129  0.541132\n",
       "C(Amount):C(Diet)   1178.133333   2.0   2.745520  0.073188\n",
       "Residual           11586.000000  54.0        NaN       NaN"
      ]
     },
     "execution_count": 141,
     "metadata": {},
     "output_type": "execute_result"
    }
   ],
   "source": [
    "anova_lm(ols_model, typ = 2)"
   ]
  },
  {
   "cell_type": "markdown",
   "metadata": {},
   "source": [
    "### Problem 3. Contingency Tables. $\\chi^2$-test\n",
    "Have a look at the dataset `data/Popular Kids.tsv` and its description `data/Popular Kids Description.txt`.\n",
    "\n",
    "When we want to compare data across many categories, a useful way we can visualize it, is using **contingency tables** (or two-way tables). One variable goes to the rows, another one - to the columns of the table. The intersection cell represents the number of observations having this combination of values.\n",
    "\n",
    "Try it now:\n",
    "```python\n",
    "pd.crosstab(kids.Grade, kids.Goals)\n",
    "```\n",
    "\n",
    "You can also specify multiple columns - this will create higher-dimensional tables. Keep in mind, however, that these are difficult to look at and understand. We're usually fine with two variables, three in some rare cases."
   ]
  },
  {
   "cell_type": "code",
   "execution_count": 142,
   "metadata": {},
   "outputs": [],
   "source": [
    "kids = pd.read_table(\"data/Popular Kids.tsv\")"
   ]
  },
  {
   "cell_type": "code",
   "execution_count": 143,
   "metadata": {},
   "outputs": [
    {
     "data": {
      "text/html": [
       "<div>\n",
       "<style scoped>\n",
       "    .dataframe tbody tr th:only-of-type {\n",
       "        vertical-align: middle;\n",
       "    }\n",
       "\n",
       "    .dataframe tbody tr th {\n",
       "        vertical-align: top;\n",
       "    }\n",
       "\n",
       "    .dataframe thead th {\n",
       "        text-align: right;\n",
       "    }\n",
       "</style>\n",
       "<table border=\"1\" class=\"dataframe\">\n",
       "  <thead>\n",
       "    <tr style=\"text-align: right;\">\n",
       "      <th></th>\n",
       "      <th>Gender</th>\n",
       "      <th>Grade</th>\n",
       "      <th>Age</th>\n",
       "      <th>Race</th>\n",
       "      <th>Urban/Rural</th>\n",
       "      <th>School</th>\n",
       "      <th>Goals</th>\n",
       "      <th>Grades</th>\n",
       "      <th>Sports</th>\n",
       "      <th>Looks</th>\n",
       "      <th>Money</th>\n",
       "    </tr>\n",
       "  </thead>\n",
       "  <tbody>\n",
       "    <tr>\n",
       "      <th>0</th>\n",
       "      <td>boy</td>\n",
       "      <td>5</td>\n",
       "      <td>11</td>\n",
       "      <td>White</td>\n",
       "      <td>Rural</td>\n",
       "      <td>Elm</td>\n",
       "      <td>Sports</td>\n",
       "      <td>1</td>\n",
       "      <td>2</td>\n",
       "      <td>4</td>\n",
       "      <td>3</td>\n",
       "    </tr>\n",
       "    <tr>\n",
       "      <th>1</th>\n",
       "      <td>boy</td>\n",
       "      <td>5</td>\n",
       "      <td>10</td>\n",
       "      <td>White</td>\n",
       "      <td>Rural</td>\n",
       "      <td>Elm</td>\n",
       "      <td>Popular</td>\n",
       "      <td>2</td>\n",
       "      <td>1</td>\n",
       "      <td>4</td>\n",
       "      <td>3</td>\n",
       "    </tr>\n",
       "    <tr>\n",
       "      <th>2</th>\n",
       "      <td>girl</td>\n",
       "      <td>5</td>\n",
       "      <td>11</td>\n",
       "      <td>White</td>\n",
       "      <td>Rural</td>\n",
       "      <td>Elm</td>\n",
       "      <td>Popular</td>\n",
       "      <td>4</td>\n",
       "      <td>3</td>\n",
       "      <td>1</td>\n",
       "      <td>2</td>\n",
       "    </tr>\n",
       "    <tr>\n",
       "      <th>3</th>\n",
       "      <td>girl</td>\n",
       "      <td>5</td>\n",
       "      <td>11</td>\n",
       "      <td>White</td>\n",
       "      <td>Rural</td>\n",
       "      <td>Elm</td>\n",
       "      <td>Popular</td>\n",
       "      <td>2</td>\n",
       "      <td>3</td>\n",
       "      <td>4</td>\n",
       "      <td>1</td>\n",
       "    </tr>\n",
       "    <tr>\n",
       "      <th>4</th>\n",
       "      <td>girl</td>\n",
       "      <td>5</td>\n",
       "      <td>10</td>\n",
       "      <td>White</td>\n",
       "      <td>Rural</td>\n",
       "      <td>Elm</td>\n",
       "      <td>Popular</td>\n",
       "      <td>4</td>\n",
       "      <td>2</td>\n",
       "      <td>1</td>\n",
       "      <td>3</td>\n",
       "    </tr>\n",
       "    <tr>\n",
       "      <th>...</th>\n",
       "      <td>...</td>\n",
       "      <td>...</td>\n",
       "      <td>...</td>\n",
       "      <td>...</td>\n",
       "      <td>...</td>\n",
       "      <td>...</td>\n",
       "      <td>...</td>\n",
       "      <td>...</td>\n",
       "      <td>...</td>\n",
       "      <td>...</td>\n",
       "      <td>...</td>\n",
       "    </tr>\n",
       "    <tr>\n",
       "      <th>473</th>\n",
       "      <td>boy</td>\n",
       "      <td>6</td>\n",
       "      <td>11</td>\n",
       "      <td>White</td>\n",
       "      <td>Urban</td>\n",
       "      <td>Westdale Middle</td>\n",
       "      <td>Grades</td>\n",
       "      <td>4</td>\n",
       "      <td>1</td>\n",
       "      <td>2</td>\n",
       "      <td>3</td>\n",
       "    </tr>\n",
       "    <tr>\n",
       "      <th>474</th>\n",
       "      <td>boy</td>\n",
       "      <td>6</td>\n",
       "      <td>11</td>\n",
       "      <td>White</td>\n",
       "      <td>Urban</td>\n",
       "      <td>Westdale Middle</td>\n",
       "      <td>Sports</td>\n",
       "      <td>4</td>\n",
       "      <td>1</td>\n",
       "      <td>2</td>\n",
       "      <td>3</td>\n",
       "    </tr>\n",
       "    <tr>\n",
       "      <th>475</th>\n",
       "      <td>boy</td>\n",
       "      <td>6</td>\n",
       "      <td>11</td>\n",
       "      <td>White</td>\n",
       "      <td>Urban</td>\n",
       "      <td>Westdale Middle</td>\n",
       "      <td>Grades</td>\n",
       "      <td>4</td>\n",
       "      <td>2</td>\n",
       "      <td>1</td>\n",
       "      <td>3</td>\n",
       "    </tr>\n",
       "    <tr>\n",
       "      <th>476</th>\n",
       "      <td>boy</td>\n",
       "      <td>6</td>\n",
       "      <td>11</td>\n",
       "      <td>White</td>\n",
       "      <td>Urban</td>\n",
       "      <td>Westdale Middle</td>\n",
       "      <td>Popular</td>\n",
       "      <td>4</td>\n",
       "      <td>1</td>\n",
       "      <td>3</td>\n",
       "      <td>2</td>\n",
       "    </tr>\n",
       "    <tr>\n",
       "      <th>477</th>\n",
       "      <td>boy</td>\n",
       "      <td>6</td>\n",
       "      <td>11</td>\n",
       "      <td>White</td>\n",
       "      <td>Urban</td>\n",
       "      <td>Westdale Middle</td>\n",
       "      <td>Popular</td>\n",
       "      <td>4</td>\n",
       "      <td>1</td>\n",
       "      <td>2</td>\n",
       "      <td>3</td>\n",
       "    </tr>\n",
       "  </tbody>\n",
       "</table>\n",
       "<p>478 rows × 11 columns</p>\n",
       "</div>"
      ],
      "text/plain": [
       "    Gender  Grade  Age   Race Urban/Rural           School    Goals  Grades  \\\n",
       "0      boy      5   11  White       Rural              Elm   Sports       1   \n",
       "1      boy      5   10  White       Rural              Elm  Popular       2   \n",
       "2     girl      5   11  White       Rural              Elm  Popular       4   \n",
       "3     girl      5   11  White       Rural              Elm  Popular       2   \n",
       "4     girl      5   10  White       Rural              Elm  Popular       4   \n",
       "..     ...    ...  ...    ...         ...              ...      ...     ...   \n",
       "473    boy      6   11  White       Urban  Westdale Middle   Grades       4   \n",
       "474    boy      6   11  White       Urban  Westdale Middle   Sports       4   \n",
       "475    boy      6   11  White       Urban  Westdale Middle   Grades       4   \n",
       "476    boy      6   11  White       Urban  Westdale Middle  Popular       4   \n",
       "477    boy      6   11  White       Urban  Westdale Middle  Popular       4   \n",
       "\n",
       "     Sports  Looks  Money  \n",
       "0         2      4      3  \n",
       "1         1      4      3  \n",
       "2         3      1      2  \n",
       "3         3      4      1  \n",
       "4         2      1      3  \n",
       "..      ...    ...    ...  \n",
       "473       1      2      3  \n",
       "474       1      2      3  \n",
       "475       2      1      3  \n",
       "476       1      3      2  \n",
       "477       1      2      3  \n",
       "\n",
       "[478 rows x 11 columns]"
      ]
     },
     "execution_count": 143,
     "metadata": {},
     "output_type": "execute_result"
    }
   ],
   "source": [
    "kids"
   ]
  },
  {
   "cell_type": "code",
   "execution_count": 144,
   "metadata": {},
   "outputs": [
    {
     "data": {
      "text/plain": [
       "array([4, 5, 6], dtype=int64)"
      ]
     },
     "execution_count": 144,
     "metadata": {},
     "output_type": "execute_result"
    }
   ],
   "source": [
    "kids[\"Grade\"].unique()"
   ]
  },
  {
   "cell_type": "code",
   "execution_count": 145,
   "metadata": {},
   "outputs": [
    {
     "data": {
      "text/plain": [
       "array([5, 4, 6], dtype=int64)"
      ]
     },
     "execution_count": 145,
     "metadata": {},
     "output_type": "execute_result"
    }
   ],
   "source": [
    "kids[\"Goals\"].unique()"
   ]
  },
  {
   "cell_type": "code",
   "execution_count": 146,
   "metadata": {},
   "outputs": [
    {
     "data": {
      "text/plain": [
       "6    183\n",
       "5    176\n",
       "4    119\n",
       "Name: Grade, dtype: int64"
      ]
     },
     "execution_count": 146,
     "metadata": {},
     "output_type": "execute_result"
    }
   ],
   "source": [
    "kids[\"Grade\"].value_counts()"
   ]
  },
  {
   "cell_type": "code",
   "execution_count": 147,
   "metadata": {},
   "outputs": [
    {
     "data": {
      "text/plain": [
       "Grade  Goals  \n",
       "4      Grades     63\n",
       "       Popular    31\n",
       "       Sports     25\n",
       "5      Grades     88\n",
       "       Popular    55\n",
       "       Sports     33\n",
       "6      Grades     96\n",
       "       Popular    55\n",
       "       Sports     32\n",
       "dtype: int64"
      ]
     },
     "execution_count": 147,
     "metadata": {},
     "output_type": "execute_result"
    }
   ],
   "source": [
    "kids.groupby([\"Grade\", \"Goals\"]).size()"
   ]
  },
  {
   "cell_type": "code",
   "execution_count": 150,
   "metadata": {},
   "outputs": [
    {
     "data": {
      "text/html": [
       "<div>\n",
       "<style scoped>\n",
       "    .dataframe tbody tr th:only-of-type {\n",
       "        vertical-align: middle;\n",
       "    }\n",
       "\n",
       "    .dataframe tbody tr th {\n",
       "        vertical-align: top;\n",
       "    }\n",
       "\n",
       "    .dataframe thead th {\n",
       "        text-align: right;\n",
       "    }\n",
       "</style>\n",
       "<table border=\"1\" class=\"dataframe\">\n",
       "  <thead>\n",
       "    <tr style=\"text-align: right;\">\n",
       "      <th>Goals</th>\n",
       "      <th>Grades</th>\n",
       "      <th>Popular</th>\n",
       "      <th>Sports</th>\n",
       "    </tr>\n",
       "    <tr>\n",
       "      <th>Grade</th>\n",
       "      <th></th>\n",
       "      <th></th>\n",
       "      <th></th>\n",
       "    </tr>\n",
       "  </thead>\n",
       "  <tbody>\n",
       "    <tr>\n",
       "      <th>4</th>\n",
       "      <td>63</td>\n",
       "      <td>31</td>\n",
       "      <td>25</td>\n",
       "    </tr>\n",
       "    <tr>\n",
       "      <th>5</th>\n",
       "      <td>88</td>\n",
       "      <td>55</td>\n",
       "      <td>33</td>\n",
       "    </tr>\n",
       "    <tr>\n",
       "      <th>6</th>\n",
       "      <td>96</td>\n",
       "      <td>55</td>\n",
       "      <td>32</td>\n",
       "    </tr>\n",
       "  </tbody>\n",
       "</table>\n",
       "</div>"
      ],
      "text/plain": [
       "Goals  Grades  Popular  Sports\n",
       "Grade                         \n",
       "4          63       31      25\n",
       "5          88       55      33\n",
       "6          96       55      32"
      ]
     },
     "execution_count": 150,
     "metadata": {},
     "output_type": "execute_result"
    }
   ],
   "source": [
    "contingency_table = pd.crosstab(kids.Grade, kids.Goals)\n",
    "contingency_table"
   ]
  },
  {
   "cell_type": "code",
   "execution_count": 151,
   "metadata": {},
   "outputs": [
    {
     "data": {
      "text/plain": [
       "(1.3121045153815976,\n",
       " 0.8593185000807877,\n",
       " 4,\n",
       " array([[61.4916318 , 35.10251046, 22.40585774],\n",
       "        [90.94560669, 51.91631799, 33.13807531],\n",
       "        [94.56276151, 53.98117155, 34.45606695]]))"
      ]
     },
     "execution_count": 151,
     "metadata": {},
     "output_type": "execute_result"
    }
   ],
   "source": [
    "st.chi2_contingency(contingency_table)"
   ]
  },
  {
   "cell_type": "markdown",
   "metadata": {},
   "source": [
    "The **$\\chi^2$**-test provides a way to test for association between two (or more) categorical variables. In this case, **Grade** and **Goals** seem to be good candidates. This is most easily done using the contingency table. Fortunately, `scipy.stats` has one such method (read the docs [here](https://docs.scipy.org/doc/scipy-0.15.1/reference/generated/scipy.stats.chi2_contingency.html)).\n",
    "\n",
    "Note that this test doesn't specify what the relationship is. It just tells us that there might be a significant relationship.\n",
    "\n",
    "Are goals related to grade? To what extent? Are these significant?\n",
    "* $H_0$: No relation between Grade and Goals\n",
    "* $H_1$: Some relation exists between Grade and Goals\n",
    "* $\\alpha = 0,05$"
   ]
  },
  {
   "cell_type": "markdown",
   "metadata": {},
   "source": [
    "The school areas are also divided into \"Urban\", \"Suburban\" and \"Rural\". Are the school areas related to goals? Perform the same type of test. Is the difference significant now?"
   ]
  },
  {
   "cell_type": "code",
   "execution_count": 154,
   "metadata": {},
   "outputs": [
    {
     "data": {
      "text/html": [
       "<div>\n",
       "<style scoped>\n",
       "    .dataframe tbody tr th:only-of-type {\n",
       "        vertical-align: middle;\n",
       "    }\n",
       "\n",
       "    .dataframe tbody tr th {\n",
       "        vertical-align: top;\n",
       "    }\n",
       "\n",
       "    .dataframe thead th {\n",
       "        text-align: right;\n",
       "    }\n",
       "</style>\n",
       "<table border=\"1\" class=\"dataframe\">\n",
       "  <thead>\n",
       "    <tr style=\"text-align: right;\">\n",
       "      <th>Goals</th>\n",
       "      <th>Grades</th>\n",
       "      <th>Popular</th>\n",
       "      <th>Sports</th>\n",
       "    </tr>\n",
       "    <tr>\n",
       "      <th>Urban/Rural</th>\n",
       "      <th></th>\n",
       "      <th></th>\n",
       "      <th></th>\n",
       "    </tr>\n",
       "  </thead>\n",
       "  <tbody>\n",
       "    <tr>\n",
       "      <th>Rural</th>\n",
       "      <td>57</td>\n",
       "      <td>50</td>\n",
       "      <td>42</td>\n",
       "    </tr>\n",
       "    <tr>\n",
       "      <th>Suburban</th>\n",
       "      <td>87</td>\n",
       "      <td>42</td>\n",
       "      <td>22</td>\n",
       "    </tr>\n",
       "    <tr>\n",
       "      <th>Urban</th>\n",
       "      <td>103</td>\n",
       "      <td>49</td>\n",
       "      <td>26</td>\n",
       "    </tr>\n",
       "  </tbody>\n",
       "</table>\n",
       "</div>"
      ],
      "text/plain": [
       "Goals        Grades  Popular  Sports\n",
       "Urban/Rural                         \n",
       "Rural            57       50      42\n",
       "Suburban         87       42      22\n",
       "Urban           103       49      26"
      ]
     },
     "execution_count": 154,
     "metadata": {},
     "output_type": "execute_result"
    }
   ],
   "source": [
    "contingency_table = pd.crosstab(kids[\"Urban/Rural\"], kids.Goals)\n",
    "st.chi2_contingency(contingency_table)\n",
    "contingency_table"
   ]
  },
  {
   "cell_type": "markdown",
   "metadata": {},
   "source": [
    "Feel free to continue exploring the dataset as you wish. You can find interesting data and relationships. \n",
    "\n",
    "**Note:** You'll see the catch of categorical variables - these are very difficult to visualize properly. Most plots just appear as symmetrical patterns of dots. You can rely on contingency tables and correlations to properly describe and explore these variables."
   ]
  },
  {
   "cell_type": "markdown",
   "metadata": {},
   "source": [
    "### * Problem 4. Image Convolution\n",
    "\"Convolution\" refers to a process similar to \"mixing\" two functions. It can be performed in one dimension (e.g. on audio data), or many dimensions. In this problem, we'll look at 2D convolution of images and what we can do with it.\n",
    "\n",
    "Let's first read an image. Once again, to make things easier, we'll separate the channels. We can work on all three channels separately or at once but it's easier to work with one channel only."
   ]
  },
  {
   "cell_type": "code",
   "execution_count": null,
   "metadata": {
    "collapsed": true
   },
   "outputs": [],
   "source": [
    "original_image = imread(\"https://upload.wikimedia.org/wikipedia/commons/d/d9/Norwegian_Forest_Cat_Portrait.JPG\")\n",
    "\n",
    "def display(image):\n",
    "    # If there is only one channel to show, display it as grayscale\n",
    "    cm = None\n",
    "    if(len(image.shape)) == 2:\n",
    "        cm = \"gray\"\n",
    "    plt.figure(figsize = (5, 10))\n",
    "    plt.imshow(image, cmap = cm)\n",
    "    plt.xticks([])\n",
    "    plt.yticks([])\n",
    "    plt.show()\n",
    "\n",
    "display(original_image)\n",
    "r = original_image[:, :, 0]\n",
    "display(r)"
   ]
  },
  {
   "cell_type": "markdown",
   "metadata": {},
   "source": [
    "**Convolution** means taking a special square matrix (usually 3x3 or 5x5), called a **convolution kernel** and applying it to the image like this: the central pixel of the resulting image is the sum of element-wise products between the image and the kernel:\n",
    "![Convolution example](convolution.png)\n",
    "\n",
    "After that, the kernel moves 1px to the right and contiinues. It \"slides\" across the entire image. The edge pixels are a bit problematic but there are several ways to deal with that. The most common way is to copy whatever pixel value happened to be at the border.\n",
    "\n",
    "![Border handling](border.png)\n",
    "\n",
    "The algorithm is always the same. The output depends on the **kernel**. Different kernels produce different results: some detect edges (lines), others detect corners; some apply blurring and sharpening; some remove noise, etc.\n",
    "\n",
    "The results can be useful for analyzing what's on the image, or just for artistic purposes.\n",
    "\n",
    "Let's examine this filter, for example:\n",
    "\n",
    "$$ F = \\begin{bmatrix}\n",
    "1/9 & 1/9 & 1/9 \\\\\n",
    "1/9 & 1/9 & 1/9 \\\\\n",
    "1/9 & 1/9 & 1/9\n",
    "\\end{bmatrix}\n",
    "$$\n",
    "\n",
    "This calculates the average of all surrounding pixels and basically smooths the image.\n",
    "\n",
    "Note that in order to preserve brightness, the sum of all elements in $F$ must be equal to 1. If it's not, the image will be darker or brighter (which may or may not be a desired effect).\n",
    "\n",
    "`scipy.ndimage` has a method for performing 1D and multi-dimensional convolution. Read the docs [here](https://docs.scipy.org/doc/scipy-0.15.1/reference/generated/scipy.ndimage.filters.convolve.html#scipy.ndimage.filters.convolve).\n",
    "\n",
    "Apply the convolution. To see better how it performs, you can plot only a part of the image - this will zoom the entire thing. Compare the \"before\" and \"after\" images."
   ]
  },
  {
   "cell_type": "code",
   "execution_count": null,
   "metadata": {
    "collapsed": true
   },
   "outputs": [],
   "source": [
    "# Write your code here"
   ]
  },
  {
   "cell_type": "markdown",
   "metadata": {},
   "source": [
    "Play around with more kernels (they're also called **filters**). You can find examples on the Internet, or you can create your own. Have fun :).\n",
    "\n",
    "Try these filters:\n",
    "* Gaussian blur\n",
    "* Sobel edge detector - vertical, horizontal\n",
    "* Corner detector\n",
    "* Gradient detector\n",
    "* Sharpening\n",
    "* Unsharp mask\n",
    "\n",
    "For each filter, show the result before and after its application.\n",
    "\n",
    "Sources: <a href=\"https://en.wikipedia.org/wiki/Kernel_(image_processing)\">Wikipedia</a>, [online playground](http://matlabtricks.com/post-5/3x3-convolution-kernels-with-online-demo), [Image Kernels explained visually](http://setosa.io/ev/image-kernels/).\n",
    "\n",
    "**Optional:** Think about you might use edge, corner and gradient detectors in image processing."
   ]
  },
  {
   "cell_type": "code",
   "execution_count": null,
   "metadata": {
    "collapsed": true
   },
   "outputs": [],
   "source": [
    "# Write your code here"
   ]
  },
  {
   "cell_type": "markdown",
   "metadata": {},
   "source": [
    "### ** Problem 5. Classification\n",
    "A type of widely used **models** is **classification**. Regression outputs a continuous value while classification outputs one of several pre-defined classes. In the most simple way, the classes are only two. For example, if we want to detect whether there's a cat on an image, we can have two classes: \"cat\" and \"non-cat\".\n",
    "\n",
    "Explore the problem of classification. Implement and document one algorithm. Apply it to some real-world data. You can use the following checklist:\n",
    "\n",
    "**Note:** If your paper is **about the algorithm**, consider **writing it from scratch**, not reusing it from a library.\n",
    "\n",
    "* What is supervised learning? What do supervised learning models do?\n",
    "* What is regression? What is classification?\n",
    "* What types of problems does classification solve directly?\n",
    "    * What types of problems can be reduced to classification?\n",
    "* What's the difference between two-class and multi-class classification?\n",
    "* Explore one algorithm for classification, e.g. logistic regression.\n",
    "    * State the problem clearly\n",
    "    * List all sssumptions of the modelling function\n",
    "    * Describe the process: distances, error function, total loss, gradient descent, etc.; as needed\n",
    "    * Implement the algorithm from scratch\n",
    "* Select or generate a small dataset, suitable for classification. Run your algorithm as a sanity check\n",
    "* Debug and solve any problems\n",
    "* Waht is a confusion matrix?\n",
    "* What metrics are used to score a classifier?\n",
    "    * Accuracy, Precision, Recall, others\n",
    "    * ROC curve, interpretation\n",
    "* Select a real dataset\n",
    "    * Explore it to get acquainted with what information it contains\n",
    "    * Clean up the data if you need to do so\n",
    "    * Perform classification\n",
    "    * Score your classification model\n",
    "    * Use your classifier to predict\n",
    "        * Split the data into training and testing set\n",
    "        * Optionally, perform **cross-validation**\n",
    "    * Compare your implementation to another one, e.g. `scikit-learn`. They should give the same (or very similar) results\n",
    "    * Communicate the results on your dataset\n",
    "    * Optionally, publish your model on the Internet as a Web API"
   ]
  },
  {
   "cell_type": "markdown",
   "metadata": {},
   "source": [
    "### ** Problem 6. Fourier Transform Applications: Images\n",
    "Examine how Fourier transform is used in image processing. Consider writing the algorithms for transformation (forward and inverse) from scratch.\n",
    "\n",
    "You may look at other transformations as well, for example, the **cosine transform** (used in JPEG images to achieve compression) or **wavelet transform**. You can use the following checklist:\n",
    "\n",
    "* What is Fourier transformation? What information does it provide?\n",
    "    * What do the forward and inverse transformation do? What are their inputs and outputs?\n",
    "    * How do we interpret the results (\"time domain\" / \"frequency domain\")?\n",
    "        * What does this mean in 2D? How does a 1D spectrum differ from a 2D spectrum?\n",
    "        * What are the characteristic parts of a 2D spectrum?\n",
    "    * Give some examples of well-known functions and their transformations\n",
    "* What is Discrete Fourier Transform (DFT)?\n",
    "    * Implement the algorithm in 2D\n",
    "* How do we use DFT in image processing?\n",
    "    * Provide examples\n",
    "* Select an image and perform operations on it using your implementation of DFT\n",
    "    * Low-pass filtering\n",
    "    * High-pass filtering\n",
    "    * Finding and removal of periodic component from an image\n",
    "    * Fnding and removal of peaks\n",
    "    * Shape analysis\n",
    "* How do convolutions relate to DFT?\n",
    "    \n",
    "[This document](http://www.robots.ox.ac.uk/~az/lectures/ia/lect2.pdf), [this document](http://research.stowers.org/mcm/efg/Report/FourierAnalysis.pdf), and many others provide a good starting point. You can find a lot of examples in digital image processing and art using Fourier transformations."
   ]
  }
 ],
 "metadata": {
  "kernelspec": {
   "display_name": "Python 3 (ipykernel)",
   "language": "python",
   "name": "python3"
  },
  "language_info": {
   "codemirror_mode": {
    "name": "ipython",
    "version": 3
   },
   "file_extension": ".py",
   "mimetype": "text/x-python",
   "name": "python",
   "nbconvert_exporter": "python",
   "pygments_lexer": "ipython3",
   "version": "3.9.12"
  }
 },
 "nbformat": 4,
 "nbformat_minor": 2
}
